{
 "cells": [
  {
   "cell_type": "code",
   "execution_count": 1,
   "id": "8c91ebef",
   "metadata": {},
   "outputs": [
    {
     "name": "stdout",
     "output_type": "stream",
     "text": [
      "Requirement already satisfied: pgmpy in d:\\user\\anaconda\\lib\\site-packages (0.1.26)\n",
      "Requirement already satisfied: networkx in d:\\user\\anaconda\\lib\\site-packages (3.1)\n",
      "Collecting daft\n",
      "  Obtaining dependency information for daft from https://files.pythonhosted.org/packages/8c/bb/a9260db73c24cfb587c5d504c8fccacdbaae1bfb651386f605fd2cff30fa/daft-0.1.2-py3-none-any.whl.metadata\n",
      "  Downloading daft-0.1.2-py3-none-any.whl.metadata (1.4 kB)\n",
      "Requirement already satisfied: matplotlib in d:\\user\\anaconda\\lib\\site-packages (from daft) (3.7.1)\n",
      "Requirement already satisfied: numpy in d:\\user\\anaconda\\lib\\site-packages (from daft) (1.23.5)\n",
      "Requirement already satisfied: setuptools in d:\\user\\anaconda\\lib\\site-packages (from daft) (59.5.0)\n",
      "Requirement already satisfied: contourpy>=1.0.1 in d:\\user\\anaconda\\lib\\site-packages (from matplotlib->daft) (1.0.5)\n",
      "Requirement already satisfied: cycler>=0.10 in d:\\user\\anaconda\\lib\\site-packages (from matplotlib->daft) (0.11.0)\n",
      "Requirement already satisfied: fonttools>=4.22.0 in d:\\user\\anaconda\\lib\\site-packages (from matplotlib->daft) (4.25.0)\n",
      "Requirement already satisfied: kiwisolver>=1.0.1 in d:\\user\\anaconda\\lib\\site-packages (from matplotlib->daft) (1.4.4)\n",
      "Requirement already satisfied: packaging>=20.0 in d:\\user\\anaconda\\lib\\site-packages (from matplotlib->daft) (21.3)\n",
      "Requirement already satisfied: pillow>=6.2.0 in d:\\user\\anaconda\\lib\\site-packages (from matplotlib->daft) (10.3.0)\n",
      "Requirement already satisfied: pyparsing>=2.3.1 in d:\\user\\anaconda\\lib\\site-packages (from matplotlib->daft) (3.0.9)\n",
      "Requirement already satisfied: python-dateutil>=2.7 in d:\\user\\anaconda\\lib\\site-packages (from matplotlib->daft) (2.8.2)\n",
      "Requirement already satisfied: six>=1.5 in d:\\user\\anaconda\\lib\\site-packages (from python-dateutil>=2.7->matplotlib->daft) (1.16.0)\n",
      "Downloading daft-0.1.2-py3-none-any.whl (11 kB)\n",
      "Installing collected packages: daft\n",
      "Successfully installed daft-0.1.2\n"
     ]
    }
   ],
   "source": [
    "!pip install pgmpy\n",
    "!pip install networkx\n",
    "!pip install daft"
   ]
  },
  {
   "cell_type": "code",
   "execution_count": 2,
   "id": "d502a192",
   "metadata": {},
   "outputs": [
    {
     "data": {
      "text/html": [
       "<div>\n",
       "<style scoped>\n",
       "    .dataframe tbody tr th:only-of-type {\n",
       "        vertical-align: middle;\n",
       "    }\n",
       "\n",
       "    .dataframe tbody tr th {\n",
       "        vertical-align: top;\n",
       "    }\n",
       "\n",
       "    .dataframe thead th {\n",
       "        text-align: right;\n",
       "    }\n",
       "</style>\n",
       "<table border=\"1\" class=\"dataframe\">\n",
       "  <thead>\n",
       "    <tr style=\"text-align: right;\">\n",
       "      <th></th>\n",
       "      <th>id</th>\n",
       "      <th>gender</th>\n",
       "      <th>age</th>\n",
       "      <th>hypertension</th>\n",
       "      <th>heart_disease</th>\n",
       "      <th>ever_married</th>\n",
       "      <th>work_type</th>\n",
       "      <th>Residence_type</th>\n",
       "      <th>avg_glucose_level</th>\n",
       "      <th>bmi</th>\n",
       "      <th>smoking_status</th>\n",
       "      <th>stroke</th>\n",
       "    </tr>\n",
       "  </thead>\n",
       "  <tbody>\n",
       "    <tr>\n",
       "      <th>0</th>\n",
       "      <td>9046</td>\n",
       "      <td>Male</td>\n",
       "      <td>67.0</td>\n",
       "      <td>0</td>\n",
       "      <td>1</td>\n",
       "      <td>Yes</td>\n",
       "      <td>Private</td>\n",
       "      <td>Urban</td>\n",
       "      <td>228.69</td>\n",
       "      <td>36.6</td>\n",
       "      <td>formerly smoked</td>\n",
       "      <td>1</td>\n",
       "    </tr>\n",
       "    <tr>\n",
       "      <th>1</th>\n",
       "      <td>51676</td>\n",
       "      <td>Female</td>\n",
       "      <td>61.0</td>\n",
       "      <td>0</td>\n",
       "      <td>0</td>\n",
       "      <td>Yes</td>\n",
       "      <td>Self-employed</td>\n",
       "      <td>Rural</td>\n",
       "      <td>202.21</td>\n",
       "      <td>NaN</td>\n",
       "      <td>never smoked</td>\n",
       "      <td>1</td>\n",
       "    </tr>\n",
       "    <tr>\n",
       "      <th>2</th>\n",
       "      <td>31112</td>\n",
       "      <td>Male</td>\n",
       "      <td>80.0</td>\n",
       "      <td>0</td>\n",
       "      <td>1</td>\n",
       "      <td>Yes</td>\n",
       "      <td>Private</td>\n",
       "      <td>Rural</td>\n",
       "      <td>105.92</td>\n",
       "      <td>32.5</td>\n",
       "      <td>never smoked</td>\n",
       "      <td>1</td>\n",
       "    </tr>\n",
       "    <tr>\n",
       "      <th>3</th>\n",
       "      <td>60182</td>\n",
       "      <td>Female</td>\n",
       "      <td>49.0</td>\n",
       "      <td>0</td>\n",
       "      <td>0</td>\n",
       "      <td>Yes</td>\n",
       "      <td>Private</td>\n",
       "      <td>Urban</td>\n",
       "      <td>171.23</td>\n",
       "      <td>34.4</td>\n",
       "      <td>smokes</td>\n",
       "      <td>1</td>\n",
       "    </tr>\n",
       "    <tr>\n",
       "      <th>4</th>\n",
       "      <td>1665</td>\n",
       "      <td>Female</td>\n",
       "      <td>79.0</td>\n",
       "      <td>1</td>\n",
       "      <td>0</td>\n",
       "      <td>Yes</td>\n",
       "      <td>Self-employed</td>\n",
       "      <td>Rural</td>\n",
       "      <td>174.12</td>\n",
       "      <td>24.0</td>\n",
       "      <td>never smoked</td>\n",
       "      <td>1</td>\n",
       "    </tr>\n",
       "  </tbody>\n",
       "</table>\n",
       "</div>"
      ],
      "text/plain": [
       "      id  gender   age  hypertension  heart_disease ever_married  \\\n",
       "0   9046    Male  67.0             0              1          Yes   \n",
       "1  51676  Female  61.0             0              0          Yes   \n",
       "2  31112    Male  80.0             0              1          Yes   \n",
       "3  60182  Female  49.0             0              0          Yes   \n",
       "4   1665  Female  79.0             1              0          Yes   \n",
       "\n",
       "       work_type Residence_type  avg_glucose_level   bmi   smoking_status  \\\n",
       "0        Private          Urban             228.69  36.6  formerly smoked   \n",
       "1  Self-employed          Rural             202.21   NaN     never smoked   \n",
       "2        Private          Rural             105.92  32.5     never smoked   \n",
       "3        Private          Urban             171.23  34.4           smokes   \n",
       "4  Self-employed          Rural             174.12  24.0     never smoked   \n",
       "\n",
       "   stroke  \n",
       "0       1  \n",
       "1       1  \n",
       "2       1  \n",
       "3       1  \n",
       "4       1  "
      ]
     },
     "execution_count": 2,
     "metadata": {},
     "output_type": "execute_result"
    }
   ],
   "source": [
    "from pandas import read_csv\n",
    "import pandas as pd\n",
    "import numpy as np\n",
    "from pgmpy.models import BayesianNetwork\n",
    "\n",
    "df_orig = read_csv(\"healthcare-dataset-stroke-data.csv\")\n",
    "df_orig.head()"
   ]
  },
  {
   "cell_type": "code",
   "execution_count": 3,
   "id": "fdbcb3c8",
   "metadata": {},
   "outputs": [
    {
     "data": {
      "text/plain": [
       "(5110, 12)"
      ]
     },
     "execution_count": 3,
     "metadata": {},
     "output_type": "execute_result"
    }
   ],
   "source": [
    "\n",
    "\n",
    "df_orig.shape\n",
    "\n"
   ]
  },
  {
   "cell_type": "code",
   "execution_count": 4,
   "id": "7954629f",
   "metadata": {},
   "outputs": [
    {
     "data": {
      "text/plain": [
       "(array([255., 179., 154., 208., 229., 211., 228., 256., 231., 366., 301.,\n",
       "        282., 344., 342., 296., 263., 210., 197., 185., 373.]),\n",
       " array([8.0000e-02, 4.1760e+00, 8.2720e+00, 1.2368e+01, 1.6464e+01,\n",
       "        2.0560e+01, 2.4656e+01, 2.8752e+01, 3.2848e+01, 3.6944e+01,\n",
       "        4.1040e+01, 4.5136e+01, 4.9232e+01, 5.3328e+01, 5.7424e+01,\n",
       "        6.1520e+01, 6.5616e+01, 6.9712e+01, 7.3808e+01, 7.7904e+01,\n",
       "        8.2000e+01]),\n",
       " <BarContainer object of 20 artists>)"
      ]
     },
     "execution_count": 4,
     "metadata": {},
     "output_type": "execute_result"
    },
    {
     "data": {
      "image/png": "[encoded data removed]",
      "text/plain": [
       "<Figure size 640x480 with 1 Axes>"
      ]
     },
     "metadata": {},
     "output_type": "display_data"
    }
   ],
   "source": [
    "# age  distribution\n",
    "import matplotlib.pyplot as plt\n",
    "plt.hist(df_orig['age'], color = 'blue', edgecolor = 'black', bins = 20)"
   ]
  },
  {
   "cell_type": "code",
   "execution_count": 5,
   "id": "3ab6cc60",
   "metadata": {},
   "outputs": [],
   "source": [
    "df=df_orig.drop(columns=['id'])\n",
    "df.rename(\n",
    "    columns=({ 'Residence_type': 'residence_type'}),\n",
    "    inplace=True,\n",
    ")"
   ]
  },
  {
   "cell_type": "code",
   "execution_count": 6,
   "id": "3af13b05",
   "metadata": {},
   "outputs": [
    {
     "data": {
      "text/plain": [
       "0       60-80\n",
       "1       60-80\n",
       "2       60-80\n",
       "3       40-60\n",
       "4       60-80\n",
       "        ...  \n",
       "5105    60-80\n",
       "5106      80+\n",
       "5107    20-40\n",
       "5108    40-60\n",
       "5109    40-60\n",
       "Name: age, Length: 5110, dtype: category\n",
       "Categories (5, object): ['0-20' < '20-40' < '40-60' < '60-80' < '80+']"
      ]
     },
     "execution_count": 6,
     "metadata": {},
     "output_type": "execute_result"
    }
   ],
   "source": [
    "df['age']=pd.cut(x=df_orig['age'], bins=[np.min(df['age']),20,40,60,80, np.max(df['age'])],labels=[\"0-20\",\"20-40\",\"40-60\",\"60-80\",\"80+\"])\n",
    "df['age']"
   ]
  },
  {
   "cell_type": "code",
   "execution_count": 7,
   "id": "8f2020a7",
   "metadata": {},
   "outputs": [
    {
     "data": {
      "text/plain": [
       "0         high\n",
       "1          NaN\n",
       "2         high\n",
       "3         high\n",
       "4       normal\n",
       "         ...  \n",
       "5105       NaN\n",
       "5106      high\n",
       "5107      high\n",
       "5108      high\n",
       "5109      high\n",
       "Name: bmi, Length: 5110, dtype: category\n",
       "Categories (4, object): ['low' < 'normal' < 'high' < 'vey high']"
      ]
     },
     "execution_count": 7,
     "metadata": {},
     "output_type": "execute_result"
    }
   ],
   "source": [
    "df['bmi']=pd.cut(x=df_orig['bmi'], bins=[np.min(df['bmi']),18,25,40, np.max(df['bmi'])],labels=[\"low\",\"normal\",\"high\", \"vey high\"])\n",
    "df['bmi']"
   ]
  },
  {
   "cell_type": "code",
   "execution_count": 8,
   "id": "46f4949c",
   "metadata": {},
   "outputs": [],
   "source": [
    "df['avg_glucose_level']=pd.cut(x=df_orig['avg_glucose_level'], bins=[np.min(df['avg_glucose_level']),80,140,np.max(df['avg_glucose_level'])],labels=[\"low\",\"normal\",\"high\"])"
   ]
  },
  {
   "cell_type": "code",
   "execution_count": 9,
   "id": "17713c30",
   "metadata": {},
   "outputs": [],
   "source": [
    "# bayesian network "
   ]
  },
  {
   "cell_type": "code",
   "execution_count": 10,
   "id": "fd451abd",
   "metadata": {},
   "outputs": [
    {
     "data": {
      "text/plain": [
       "<Axes: >"
      ]
     },
     "execution_count": 10,
     "metadata": {},
     "output_type": "execute_result"
    },
    {
     "data": {
      "image/png": "[encoded data removed]",
      "text/plain": [
       "<Figure size 826.772x826.772 with 1 Axes>"
      ]
     },
     "metadata": {},
     "output_type": "display_data"
    }
   ],
   "source": [
    "import daft\n",
    "import matplotlib.pyplot as plt\n",
    "from daft import PGM\n",
    "\n",
    "pgm = PGM(shape=[14,14], node_unit=2.5, grid_unit=1.5)\n",
    "\n",
    "pgm.add_node(daft.Node('Gender', r\"Gender\", 8, 7))\n",
    "pgm.add_node(daft.Node('Age', r\"Age\", 4, 7))\n",
    "pgm.add_node(daft.Node('Hypertension', r\"Hypertension\", 6, 3))\n",
    "pgm.add_node(daft.Node('HeartDisease', r\"HeartDisease\", 10, 3))\n",
    "pgm.add_node(daft.Node('Married', r\"Married\", 6, 6))\n",
    "pgm.add_node(daft.Node('WorkType', r\"WorkType\", 10, 6))\n",
    "pgm.add_node(daft.Node('Residence', r\"Residence\", 12, 6))\n",
    "pgm.add_node(daft.Node('Glucose', r\"Glucose\", 8, 5))\n",
    "pgm.add_node(daft.Node('BMI', r\"BMI\", 4, 5))\n",
    "pgm.add_node(daft.Node('Smoking', r\"Smoking\", 4, 3))\n",
    "pgm.add_node(daft.Node('Stroke', r\"Stroke\", 8, 1)\n",
    ")\n",
    "pgm.add_edge('Gender', 'Glucose')\n",
    "pgm.add_edge('Age', 'BMI')\n",
    "pgm.add_edge('Glucose', 'Hypertension')\n",
    "pgm.add_edge('Smoking', 'Hypertension')\n",
    "pgm.add_edge('BMI', 'Hypertension')\n",
    "pgm.add_edge('Married', 'Hypertension')\n",
    "pgm.add_edge('WorkType', 'HeartDisease')\n",
    "pgm.add_edge('Residence', 'HeartDisease')\n",
    "pgm.add_edge('Glucose', 'HeartDisease')\n",
    "pgm.add_edge('Hypertension', 'Stroke')\n",
    "pgm.add_edge('HeartDisease', 'Stroke')\n",
    "\n",
    "pgm.render()"
   ]
  },
  {
   "cell_type": "code",
   "execution_count": 40,
   "id": "c4dc909f",
   "metadata": {},
   "outputs": [],
   "source": [
    "from pgmpy.models import BayesianModel\n",
    "\n",
    "model = BayesianNetwork([('age', 'bmi'),\n",
    "                       ('smoking_status', 'hypertension'),\n",
    "                       ('ever_married', 'hypertension'),\n",
    "                       ('gender', 'avg_glucose_level'),\n",
    "                       ('work_type', 'heart_disease'),\n",
    "                       ('residence_type', 'heart_disease'),\n",
    "                       ('bmi', 'hypertension'),\n",
    "                       ('avg_glucose_level', 'hypertension'),\n",
    "                       ('avg_glucose_level', 'heart_disease'),\n",
    "                       ('hypertension', 'stroke'),\n",
    "                       ('heart_disease', 'stroke')])"
   ]
  },
  {
   "cell_type": "code",
   "execution_count": 41,
   "id": "eb2f55bf",
   "metadata": {},
   "outputs": [
    {
     "data": {
      "text/plain": [
       "NodeView(('age', 'bmi', 'smoking_status', 'hypertension', 'ever_married', 'gender', 'avg_glucose_level', 'work_type', 'heart_disease', 'residence_type', 'stroke'))"
      ]
     },
     "execution_count": 41,
     "metadata": {},
     "output_type": "execute_result"
    }
   ],
   "source": [
    "\n",
    "model.nodes()"
   ]
  },
  {
   "cell_type": "code",
   "execution_count": 42,
   "id": "c5a7243c",
   "metadata": {},
   "outputs": [
    {
     "data": {
      "text/plain": [
       "OutEdgeView([('age', 'bmi'), ('bmi', 'hypertension'), ('smoking_status', 'hypertension'), ('hypertension', 'stroke'), ('ever_married', 'hypertension'), ('gender', 'avg_glucose_level'), ('avg_glucose_level', 'hypertension'), ('avg_glucose_level', 'heart_disease'), ('work_type', 'heart_disease'), ('heart_disease', 'stroke'), ('residence_type', 'heart_disease')])"
      ]
     },
     "execution_count": 42,
     "metadata": {},
     "output_type": "execute_result"
    }
   ],
   "source": [
    "model.edges()"
   ]
  },
  {
   "cell_type": "code",
   "execution_count": 43,
   "id": "770ae4ba",
   "metadata": {},
   "outputs": [
    {
     "data": {
      "text/plain": [
       "(hypertension ⟂ age, work_type, gender, heart_disease, residence_type | avg_glucose_level, ever_married, bmi, smoking_status)"
      ]
     },
     "execution_count": 43,
     "metadata": {},
     "output_type": "execute_result"
    }
   ],
   "source": [
    "model.local_independencies(\"hypertension\")"
   ]
  },
  {
   "cell_type": "code",
   "execution_count": 44,
   "id": "d16dcad2",
   "metadata": {},
   "outputs": [
    {
     "data": {
      "text/plain": [
       "(heart_disease ⟂ age, bmi, smoking_status, gender, ever_married, hypertension | avg_glucose_level, work_type, residence_type)"
      ]
     },
     "execution_count": 44,
     "metadata": {},
     "output_type": "execute_result"
    }
   ],
   "source": [
    "model.local_independencies(\"heart_disease\")"
   ]
  },
  {
   "cell_type": "code",
   "execution_count": 45,
   "id": "750c5f7d",
   "metadata": {},
   "outputs": [
    {
     "name": "stdout",
     "output_type": "stream",
     "text": [
      "CPT - age:\n",
      "+------------+-----------+\n",
      "| age(0-20)  | 0.203259  |\n",
      "+------------+-----------+\n",
      "| age(20-40) | 0.241141  |\n",
      "+------------+-----------+\n",
      "| age(40-60) | 0.307332  |\n",
      "+------------+-----------+\n",
      "| age(60-80) | 0.224644  |\n",
      "+------------+-----------+\n",
      "| age(80+)   | 0.0236253 |\n",
      "+------------+-----------+ \n",
      "\n",
      "CPT - bmi:\n",
      "+---------------+----------------------+-----+----------------------+---------------------+\n",
      "| age           | age(0-20)            | ... | age(60-80)           | age(80+)            |\n",
      "+---------------+----------------------+-----+----------------------+---------------------+\n",
      "| bmi(high)     | 0.21467935871743488  | ... | 0.7554397098821396   | 0.6745689655172413  |\n",
      "+---------------+----------------------+-----+----------------------+---------------------+\n",
      "| bmi(low)      | 0.26077154308617234  | ... | 0.011106074342701723 | 0.01939655172413793 |\n",
      "+---------------+----------------------+-----+----------------------+---------------------+\n",
      "| bmi(normal)   | 0.50125250501002     | ... | 0.17157751586582048  | 0.28663793103448276 |\n",
      "+---------------+----------------------+-----+----------------------+---------------------+\n",
      "| bmi(vey high) | 0.023296593186372744 | ... | 0.06187669990933817  | 0.01939655172413793 |\n",
      "+---------------+----------------------+-----+----------------------+---------------------+ \n",
      "\n",
      "CPT - smoking_status:\n",
      "+---------------------------------+----------+\n",
      "| smoking_status(Unknown)         | 0.30168  |\n",
      "+---------------------------------+----------+\n",
      "| smoking_status(formerly smoked) | 0.170723 |\n",
      "+---------------------------------+----------+\n",
      "| smoking_status(never smoked)    | 0.37724  |\n",
      "+---------------------------------+----------+\n",
      "| smoking_status(smokes)          | 0.150356 |\n",
      "+---------------------------------+----------+ \n",
      "\n",
      "CPT - hypertension:\n",
      "+-------------------+-------------------------+-----+---------------------------+\n",
      "| avg_glucose_level | avg_glucose_level(high) | ... | avg_glucose_level(normal) |\n",
      "+-------------------+-------------------------+-----+---------------------------+\n",
      "| bmi               | bmi(high)               | ... | bmi(vey high)             |\n",
      "+-------------------+-------------------------+-----+---------------------------+\n",
      "| ever_married      | ever_married(No)        | ... | ever_married(Yes)         |\n",
      "+-------------------+-------------------------+-----+---------------------------+\n",
      "| smoking_status    | smoking_status(Unknown) | ... | smoking_status(smokes)    |\n",
      "+-------------------+-------------------------+-----+---------------------------+\n",
      "| hypertension(0)   | 0.9981467753891772      | ... | 0.8703455216370345        |\n",
      "+-------------------+-------------------------+-----+---------------------------+\n",
      "| hypertension(1)   | 0.0018532246108228319   | ... | 0.12965447836296545       |\n",
      "+-------------------+-------------------------+-----+---------------------------+ \n",
      "\n",
      "CPT - ever_married:\n",
      "+-------------------+----------+\n",
      "| ever_married(No)  | 0.346945 |\n",
      "+-------------------+----------+\n",
      "| ever_married(Yes) | 0.653055 |\n",
      "+-------------------+----------+ \n",
      "\n",
      "CPT - gender:\n",
      "+----------------+-------------+\n",
      "| gender(Female) | 0.589749    |\n",
      "+----------------+-------------+\n",
      "| gender(Male)   | 0.409708    |\n",
      "+----------------+-------------+\n",
      "| gender(Other)  | 0.000543109 |\n",
      "+----------------+-------------+ \n",
      "\n",
      "CPT - avg_glucose_level:\n",
      "+---------------------------+---------------------+---------------------+---------------------+\n",
      "| gender                    | gender(Female)      | gender(Male)        | gender(Other)       |\n",
      "+---------------------------+---------------------+---------------------+---------------------+\n",
      "| avg_glucose_level(high)   | 0.13763861709067188 | 0.1772438552885943  | 0.5833333333333333  |\n",
      "+---------------------------+---------------------+---------------------+---------------------+\n",
      "| avg_glucose_level(low)    | 0.3182533287287517  | 0.27914940624136975 | 0.20833333333333331 |\n",
      "+---------------------------+---------------------+---------------------+---------------------+\n",
      "| avg_glucose_level(normal) | 0.5441080541805763  | 0.5436067384700359  | 0.20833333333333331 |\n",
      "+---------------------------+---------------------+---------------------+---------------------+ \n",
      "\n",
      "CPT - work_type:\n",
      "+--------------------------+------------+\n",
      "| work_type(Govt_job)      | 0.128513   |\n",
      "+--------------------------+------------+\n",
      "| work_type(Never_worked)  | 0.00468432 |\n",
      "+--------------------------+------------+\n",
      "| work_type(Private)       | 0.572505   |\n",
      "+--------------------------+------------+\n",
      "| work_type(Self-employed) | 0.158045   |\n",
      "+--------------------------+------------+\n",
      "| work_type(children)      | 0.136253   |\n",
      "+--------------------------+------------+ \n",
      "\n",
      "CPT - heart_disease:\n",
      "+-------------------+-------------------------+-----+---------------------------+\n",
      "| avg_glucose_level | avg_glucose_level(high) | ... | avg_glucose_level(normal) |\n",
      "+-------------------+-------------------------+-----+---------------------------+\n",
      "| residence_type    | residence_type(Rural)   | ... | residence_type(Urban)     |\n",
      "+-------------------+-------------------------+-----+---------------------------+\n",
      "| work_type         | work_type(Govt_job)     | ... | work_type(children)       |\n",
      "+-------------------+-------------------------+-----+---------------------------+\n",
      "| heart_disease(0)  | 0.9201954397394136      | ... | 0.9996108949416342        |\n",
      "+-------------------+-------------------------+-----+---------------------------+\n",
      "| heart_disease(1)  | 0.0798045602605863      | ... | 0.0003891050583657587     |\n",
      "+-------------------+-------------------------+-----+---------------------------+ \n",
      "\n",
      "CPT - residence_type:\n",
      "+-----------------------+----------+\n",
      "| residence_type(Rural) | 0.492566 |\n",
      "+-----------------------+----------+\n",
      "| residence_type(Urban) | 0.507434 |\n",
      "+-----------------------+----------+ \n",
      "\n",
      "CPT - stroke:\n",
      "+---------------+----------------------+--------------------+---------------------+--------------------+\n",
      "| heart_disease | heart_disease(0)     | heart_disease(0)   | heart_disease(1)    | heart_disease(1)   |\n",
      "+---------------+----------------------+--------------------+---------------------+--------------------+\n",
      "| hypertension  | hypertension(0)      | hypertension(1)    | hypertension(0)     | hypertension(1)    |\n",
      "+---------------+----------------------+--------------------+---------------------+--------------------+\n",
      "| stroke(0)     | 0.97175223933025     | 0.8741280913126189 | 0.8409395973154362  | 0.8037974683544303 |\n",
      "+---------------+----------------------+--------------------+---------------------+--------------------+\n",
      "| stroke(1)     | 0.028247760669750016 | 0.1258719086873811 | 0.15906040268456376 | 0.1962025316455696 |\n",
      "+---------------+----------------------+--------------------+---------------------+--------------------+ \n",
      "\n"
     ]
    }
   ],
   "source": [
    "from pgmpy.estimators import BayesianEstimator\n",
    "\n",
    "model.cpds = []\n",
    "model.fit(data=df, estimator=BayesianEstimator, prior_type=\"BDeu\")\n",
    "\n",
    "for cpd in model.get_cpds():\n",
    "    print(f'CPT - {cpd.variable}:')\n",
    "    print(cpd, '\\n')"
   ]
  },
  {
   "cell_type": "code",
   "execution_count": 46,
   "id": "bd8e4fec",
   "metadata": {},
   "outputs": [
    {
     "name": "stdout",
     "output_type": "stream",
     "text": [
      "+---------------------------------+----------+\n",
      "| smoking_status(Unknown)         | 0.30168  |\n",
      "+---------------------------------+----------+\n",
      "| smoking_status(formerly smoked) | 0.170723 |\n",
      "+---------------------------------+----------+\n",
      "| smoking_status(never smoked)    | 0.37724  |\n",
      "+---------------------------------+----------+\n",
      "| smoking_status(smokes)          | 0.150356 |\n",
      "+---------------------------------+----------+\n"
     ]
    }
   ],
   "source": [
    "print(model.get_cpds(node=\"smoking_status\"))"
   ]
  },
  {
   "cell_type": "code",
   "execution_count": 47,
   "id": "1fe3750c",
   "metadata": {},
   "outputs": [
    {
     "name": "stdout",
     "output_type": "stream",
     "text": [
      "+---------------+----------------------+-----+----------------------+---------------------+\n",
      "| age           | age(0-20)            | ... | age(60-80)           | age(80+)            |\n",
      "+---------------+----------------------+-----+----------------------+---------------------+\n",
      "| bmi(high)     | 0.21467935871743488  | ... | 0.7554397098821396   | 0.6745689655172413  |\n",
      "+---------------+----------------------+-----+----------------------+---------------------+\n",
      "| bmi(low)      | 0.26077154308617234  | ... | 0.011106074342701723 | 0.01939655172413793 |\n",
      "+---------------+----------------------+-----+----------------------+---------------------+\n",
      "| bmi(normal)   | 0.50125250501002     | ... | 0.17157751586582048  | 0.28663793103448276 |\n",
      "+---------------+----------------------+-----+----------------------+---------------------+\n",
      "| bmi(vey high) | 0.023296593186372744 | ... | 0.06187669990933817  | 0.01939655172413793 |\n",
      "+---------------+----------------------+-----+----------------------+---------------------+\n"
     ]
    }
   ],
   "source": [
    "print(model.get_cpds(node=\"bmi\"))"
   ]
  },
  {
   "cell_type": "code",
   "execution_count": 48,
   "id": "63fe7dc2",
   "metadata": {},
   "outputs": [
    {
     "data": {
      "text/plain": [
       "True"
      ]
     },
     "execution_count": 48,
     "metadata": {},
     "output_type": "execute_result"
    }
   ],
   "source": [
    "model.check_model()"
   ]
  },
  {
   "cell_type": "code",
   "execution_count": 49,
   "id": "5763dd61",
   "metadata": {},
   "outputs": [
    {
     "data": {
      "text/plain": [
       "defaultdict(int,\n",
       "            {'age': 5,\n",
       "             'bmi': 4,\n",
       "             'smoking_status': 4,\n",
       "             'hypertension': 2,\n",
       "             'ever_married': 2,\n",
       "             'gender': 3,\n",
       "             'avg_glucose_level': 3,\n",
       "             'work_type': 5,\n",
       "             'heart_disease': 2,\n",
       "             'residence_type': 2,\n",
       "             'stroke': 2})"
      ]
     },
     "execution_count": 49,
     "metadata": {},
     "output_type": "execute_result"
    }
   ],
   "source": [
    "model.get_cardinality()"
   ]
  },
  {
   "cell_type": "code",
   "execution_count": 50,
   "id": "231d7685",
   "metadata": {},
   "outputs": [],
   "source": [
    "# variable elemination"
   ]
  },
  {
   "cell_type": "code",
   "execution_count": 51,
   "id": "00dc32e6",
   "metadata": {},
   "outputs": [],
   "source": [
    "from pgmpy.inference import VariableElimination\n",
    "infer = VariableElimination(model)"
   ]
  },
  {
   "cell_type": "code",
   "execution_count": 52,
   "id": "9813ad92",
   "metadata": {},
   "outputs": [
    {
     "name": "stdout",
     "output_type": "stream",
     "text": [
      "+-----------------+---------------------+\n",
      "| hypertension    |   phi(hypertension) |\n",
      "+=================+=====================+\n",
      "| hypertension(0) |              0.9128 |\n",
      "+-----------------+---------------------+\n",
      "| hypertension(1) |              0.0872 |\n",
      "+-----------------+---------------------+\n"
     ]
    }
   ],
   "source": [
    "import warnings\n",
    "warnings.filterwarnings(\"ignore\")\n",
    "\n",
    "print(infer.query([\"hypertension\"],evidence={\"age\": \"80+\"}))\n",
    "\n"
   ]
  },
  {
   "cell_type": "code",
   "execution_count": 53,
   "id": "17ea6570",
   "metadata": {},
   "outputs": [
    {
     "name": "stdout",
     "output_type": "stream",
     "text": [
      "+-----------------+---------------------+\n",
      "| hypertension    |   phi(hypertension) |\n",
      "+=================+=====================+\n",
      "| hypertension(0) |              0.8931 |\n",
      "+-----------------+---------------------+\n",
      "| hypertension(1) |              0.1069 |\n",
      "+-----------------+---------------------+\n"
     ]
    }
   ],
   "source": [
    "print(infer.query([\"hypertension\"],evidence={\"age\": \"80+\", \"smoking_status\" : 'smokes'}))"
   ]
  },
  {
   "cell_type": "code",
   "execution_count": 54,
   "id": "d1b02f0b",
   "metadata": {},
   "outputs": [
    {
     "name": "stdout",
     "output_type": "stream",
     "text": [
      "+-----------------+---------------------+\n",
      "| hypertension    |   phi(hypertension) |\n",
      "+=================+=====================+\n",
      "| hypertension(0) |              0.8847 |\n",
      "+-----------------+---------------------+\n",
      "| hypertension(1) |              0.1153 |\n",
      "+-----------------+---------------------+\n"
     ]
    }
   ],
   "source": [
    "\n",
    "\n",
    "print(infer.query([\"hypertension\"],evidence={\"age\": \"60-80\", \"smoking_status\" : 'smokes', \"bmi\" : \"high\"}))\n",
    "\n"
   ]
  },
  {
   "cell_type": "code",
   "execution_count": 55,
   "id": "6e2bdfc9",
   "metadata": {},
   "outputs": [
    {
     "name": "stdout",
     "output_type": "stream",
     "text": [
      "+-----------------+---------------------+\n",
      "| hypertension    |   phi(hypertension) |\n",
      "+=================+=====================+\n",
      "| hypertension(0) |              0.9259 |\n",
      "+-----------------+---------------------+\n",
      "| hypertension(1) |              0.0741 |\n",
      "+-----------------+---------------------+\n"
     ]
    }
   ],
   "source": [
    "print(infer.query([\"hypertension\"],evidence={\"age\": \"0-20\", \"smoking_status\" : 'never smoked', \"bmi\" : \"normal\"}))"
   ]
  },
  {
   "cell_type": "code",
   "execution_count": 56,
   "id": "aee94a6f",
   "metadata": {},
   "outputs": [
    {
     "name": "stdout",
     "output_type": "stream",
     "text": [
      "+-----------+---------------+\n",
      "| stroke    |   phi(stroke) |\n",
      "+===========+===============+\n",
      "| stroke(0) |        0.8366 |\n",
      "+-----------+---------------+\n",
      "| stroke(1) |        0.1634 |\n",
      "+-----------+---------------+\n"
     ]
    }
   ],
   "source": [
    "print(infer.query([\"stroke\"],evidence={\"heart_disease\": 1}))"
   ]
  },
  {
   "cell_type": "code",
   "execution_count": 57,
   "id": "17f569ea",
   "metadata": {},
   "outputs": [
    {
     "data": {
      "text/html": [
       "<div>\n",
       "<style scoped>\n",
       "    .dataframe tbody tr th:only-of-type {\n",
       "        vertical-align: middle;\n",
       "    }\n",
       "\n",
       "    .dataframe tbody tr th {\n",
       "        vertical-align: top;\n",
       "    }\n",
       "\n",
       "    .dataframe thead th {\n",
       "        text-align: right;\n",
       "    }\n",
       "</style>\n",
       "<table border=\"1\" class=\"dataframe\">\n",
       "  <thead>\n",
       "    <tr style=\"text-align: right;\">\n",
       "      <th></th>\n",
       "      <th>gender</th>\n",
       "      <th>age</th>\n",
       "      <th>hypertension</th>\n",
       "      <th>heart_disease</th>\n",
       "      <th>ever_married</th>\n",
       "      <th>work_type</th>\n",
       "      <th>residence_type</th>\n",
       "      <th>avg_glucose_level</th>\n",
       "      <th>bmi</th>\n",
       "      <th>smoking_status</th>\n",
       "      <th>stroke</th>\n",
       "    </tr>\n",
       "  </thead>\n",
       "  <tbody>\n",
       "    <tr>\n",
       "      <th>0</th>\n",
       "      <td>Male</td>\n",
       "      <td>60-80</td>\n",
       "      <td>0</td>\n",
       "      <td>1</td>\n",
       "      <td>Yes</td>\n",
       "      <td>Private</td>\n",
       "      <td>Urban</td>\n",
       "      <td>high</td>\n",
       "      <td>high</td>\n",
       "      <td>formerly smoked</td>\n",
       "      <td>1</td>\n",
       "    </tr>\n",
       "    <tr>\n",
       "      <th>2</th>\n",
       "      <td>Male</td>\n",
       "      <td>60-80</td>\n",
       "      <td>0</td>\n",
       "      <td>1</td>\n",
       "      <td>Yes</td>\n",
       "      <td>Private</td>\n",
       "      <td>Rural</td>\n",
       "      <td>normal</td>\n",
       "      <td>high</td>\n",
       "      <td>never smoked</td>\n",
       "      <td>1</td>\n",
       "    </tr>\n",
       "    <tr>\n",
       "      <th>3</th>\n",
       "      <td>Female</td>\n",
       "      <td>40-60</td>\n",
       "      <td>0</td>\n",
       "      <td>0</td>\n",
       "      <td>Yes</td>\n",
       "      <td>Private</td>\n",
       "      <td>Urban</td>\n",
       "      <td>high</td>\n",
       "      <td>high</td>\n",
       "      <td>smokes</td>\n",
       "      <td>1</td>\n",
       "    </tr>\n",
       "    <tr>\n",
       "      <th>4</th>\n",
       "      <td>Female</td>\n",
       "      <td>60-80</td>\n",
       "      <td>1</td>\n",
       "      <td>0</td>\n",
       "      <td>Yes</td>\n",
       "      <td>Self-employed</td>\n",
       "      <td>Rural</td>\n",
       "      <td>high</td>\n",
       "      <td>normal</td>\n",
       "      <td>never smoked</td>\n",
       "      <td>1</td>\n",
       "    </tr>\n",
       "    <tr>\n",
       "      <th>5</th>\n",
       "      <td>Male</td>\n",
       "      <td>80+</td>\n",
       "      <td>0</td>\n",
       "      <td>0</td>\n",
       "      <td>Yes</td>\n",
       "      <td>Private</td>\n",
       "      <td>Urban</td>\n",
       "      <td>high</td>\n",
       "      <td>high</td>\n",
       "      <td>formerly smoked</td>\n",
       "      <td>1</td>\n",
       "    </tr>\n",
       "    <tr>\n",
       "      <th>...</th>\n",
       "      <td>...</td>\n",
       "      <td>...</td>\n",
       "      <td>...</td>\n",
       "      <td>...</td>\n",
       "      <td>...</td>\n",
       "      <td>...</td>\n",
       "      <td>...</td>\n",
       "      <td>...</td>\n",
       "      <td>...</td>\n",
       "      <td>...</td>\n",
       "      <td>...</td>\n",
       "    </tr>\n",
       "    <tr>\n",
       "      <th>5104</th>\n",
       "      <td>Female</td>\n",
       "      <td>0-20</td>\n",
       "      <td>0</td>\n",
       "      <td>0</td>\n",
       "      <td>No</td>\n",
       "      <td>children</td>\n",
       "      <td>Rural</td>\n",
       "      <td>normal</td>\n",
       "      <td>normal</td>\n",
       "      <td>Unknown</td>\n",
       "      <td>0</td>\n",
       "    </tr>\n",
       "    <tr>\n",
       "      <th>5106</th>\n",
       "      <td>Female</td>\n",
       "      <td>80+</td>\n",
       "      <td>0</td>\n",
       "      <td>0</td>\n",
       "      <td>Yes</td>\n",
       "      <td>Self-employed</td>\n",
       "      <td>Urban</td>\n",
       "      <td>normal</td>\n",
       "      <td>high</td>\n",
       "      <td>never smoked</td>\n",
       "      <td>0</td>\n",
       "    </tr>\n",
       "    <tr>\n",
       "      <th>5107</th>\n",
       "      <td>Female</td>\n",
       "      <td>20-40</td>\n",
       "      <td>0</td>\n",
       "      <td>0</td>\n",
       "      <td>Yes</td>\n",
       "      <td>Self-employed</td>\n",
       "      <td>Rural</td>\n",
       "      <td>normal</td>\n",
       "      <td>high</td>\n",
       "      <td>never smoked</td>\n",
       "      <td>0</td>\n",
       "    </tr>\n",
       "    <tr>\n",
       "      <th>5108</th>\n",
       "      <td>Male</td>\n",
       "      <td>40-60</td>\n",
       "      <td>0</td>\n",
       "      <td>0</td>\n",
       "      <td>Yes</td>\n",
       "      <td>Private</td>\n",
       "      <td>Rural</td>\n",
       "      <td>high</td>\n",
       "      <td>high</td>\n",
       "      <td>formerly smoked</td>\n",
       "      <td>0</td>\n",
       "    </tr>\n",
       "    <tr>\n",
       "      <th>5109</th>\n",
       "      <td>Female</td>\n",
       "      <td>40-60</td>\n",
       "      <td>0</td>\n",
       "      <td>0</td>\n",
       "      <td>Yes</td>\n",
       "      <td>Govt_job</td>\n",
       "      <td>Urban</td>\n",
       "      <td>normal</td>\n",
       "      <td>high</td>\n",
       "      <td>Unknown</td>\n",
       "      <td>0</td>\n",
       "    </tr>\n",
       "  </tbody>\n",
       "</table>\n",
       "<p>4905 rows × 11 columns</p>\n",
       "</div>"
      ],
      "text/plain": [
       "      gender    age  hypertension  heart_disease ever_married      work_type  \\\n",
       "0       Male  60-80             0              1          Yes        Private   \n",
       "2       Male  60-80             0              1          Yes        Private   \n",
       "3     Female  40-60             0              0          Yes        Private   \n",
       "4     Female  60-80             1              0          Yes  Self-employed   \n",
       "5       Male    80+             0              0          Yes        Private   \n",
       "...      ...    ...           ...            ...          ...            ...   \n",
       "5104  Female   0-20             0              0           No       children   \n",
       "5106  Female    80+             0              0          Yes  Self-employed   \n",
       "5107  Female  20-40             0              0          Yes  Self-employed   \n",
       "5108    Male  40-60             0              0          Yes        Private   \n",
       "5109  Female  40-60             0              0          Yes       Govt_job   \n",
       "\n",
       "     residence_type avg_glucose_level     bmi   smoking_status  stroke  \n",
       "0             Urban              high    high  formerly smoked       1  \n",
       "2             Rural            normal    high     never smoked       1  \n",
       "3             Urban              high    high           smokes       1  \n",
       "4             Rural              high  normal     never smoked       1  \n",
       "5             Urban              high    high  formerly smoked       1  \n",
       "...             ...               ...     ...              ...     ...  \n",
       "5104          Rural            normal  normal          Unknown       0  \n",
       "5106          Urban            normal    high     never smoked       0  \n",
       "5107          Rural            normal    high     never smoked       0  \n",
       "5108          Rural              high    high  formerly smoked       0  \n",
       "5109          Urban            normal    high          Unknown       0  \n",
       "\n",
       "[4905 rows x 11 columns]"
      ]
     },
     "execution_count": 57,
     "metadata": {},
     "output_type": "execute_result"
    }
   ],
   "source": [
    "df"
   ]
  },
  {
   "cell_type": "code",
   "execution_count": 58,
   "id": "62b14eb8",
   "metadata": {},
   "outputs": [
    {
     "name": "stdout",
     "output_type": "stream",
     "text": [
      "+-----------+---------------+\n",
      "| stroke    |   phi(stroke) |\n",
      "+===========+===============+\n",
      "| stroke(0) |        0.8364 |\n",
      "+-----------+---------------+\n",
      "| stroke(1) |        0.1636 |\n",
      "+-----------+---------------+\n"
     ]
    }
   ],
   "source": [
    "print(infer.query([\"stroke\"],evidence={\"heart_disease\": 1  , \"gender\" : \"Male\" , \"age\" : \"60-80\"}))"
   ]
  },
  {
   "cell_type": "code",
   "execution_count": 59,
   "id": "fad30de8",
   "metadata": {},
   "outputs": [],
   "source": [
    "df.dropna(inplace = True)"
   ]
  },
  {
   "cell_type": "code",
   "execution_count": 60,
   "id": "8f49dee4",
   "metadata": {},
   "outputs": [
    {
     "name": "stdout",
     "output_type": "stream",
     "text": [
      "Overall Accuracy: 0.9573904179408766\n"
     ]
    }
   ],
   "source": [
    "import pandas as pd\n",
    "from sklearn.metrics import accuracy_score\n",
    "\n",
    "accuracies = []\n",
    "\n",
    "for _, row in df.iterrows():\n",
    "  \n",
    "    evidence = {col: row[col] for col in df.columns if col != \"stroke\"}\n",
    "\n",
    "    query_result = infer.query([\"stroke\"], evidence=evidence)\n",
    "\n",
    "    prob_stroke = query_result.values[1]  \n",
    "    predicted_stroke = 1 if prob_stroke > 0.5 else 0\n",
    "\n",
    "    ground_truth_stroke = row[\"stroke\"]\n",
    "\n",
    "    accuracy = accuracy_score([ground_truth_stroke], [predicted_stroke])\n",
    "    accuracies.append(accuracy)\n",
    "\n",
    "overall_accuracy = sum(accuracies) / len(accuracies)\n",
    "print(f\"Overall Accuracy: {overall_accuracy}\")\n"
   ]
  }
 ],
 "metadata": {
  "kernelspec": {
   "display_name": "Python 3 (ipykernel)",
   "language": "python",
   "name": "python3"
  },
  "language_info": {
   "codemirror_mode": {
    "name": "ipython",
    "version": 3
   },
   "file_extension": ".py",
   "mimetype": "text/x-python",
   "name": "python",
   "nbconvert_exporter": "python",
   "pygments_lexer": "ipython3",
   "version": "3.11.4"
  }
 },
 "nbformat": 4,
 "nbformat_minor": 5
}
